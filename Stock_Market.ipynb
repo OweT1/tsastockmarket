{
  "nbformat": 4,
  "nbformat_minor": 0,
  "metadata": {
    "colab": {
      "provenance": [],
      "authorship_tag": "ABX9TyM0DuzT8rLJ/dnhn0Ca5Hlb",
      "include_colab_link": true
    },
    "kernelspec": {
      "name": "python3",
      "display_name": "Python 3"
    },
    "language_info": {
      "name": "python"
    }
  },
  "cells": [
    {
      "cell_type": "markdown",
      "metadata": {
        "id": "view-in-github",
        "colab_type": "text"
      },
      "source": [
        "<a href=\"https://colab.research.google.com/github/OweT1/tsastockmarket/blob/main/Stock_Market.ipynb\" target=\"_parent\"><img src=\"https://colab.research.google.com/assets/colab-badge.svg\" alt=\"Open In Colab\"/></a>"
      ]
    },
    {
      "cell_type": "markdown",
      "source": [
        "# Files:\n",
        "- data.parquet/data.csv (.parquet format is good for efficient loading and saving)\n",
        "    - The main dataset containing stock price, trade volume, news events and news sentiment for S&P 500 companies during the period Oct 2020-Jul 2022\n",
        "    - 217811 samples in total\n",
        "    - Total 26 features per sample\n",
        "    - Prediction Task:\n",
        "        - Focus on prediction the following 4 features: \"Open\" (opening price on the day), \"Close\" (closing price of the day), \"High\" (highest price on that day), \"Low\" (lowest price on that day). If you predicting for day X, then you cannot use any of these 4 feature values of day X as model input\n",
        "        - If you are predicting for day X, then you should also use some attributes of previous N (experiment with different values of N) days (remember that this is a time series task -> prediction of today is also affected by the occurrences of the near past). These attributes may include \"Open\", \"Close\", \"High\" and \"Low\" features as well.\n",
        "- sp500wiki.parquet/sp500wiki.csv\n",
        "    - List of S&P 500 companies as of July 2022 and various metadata in tabular format\n",
        "    - Contains information for over 500 companies (524 rows in total)\n",
        "    - 10 attributes per company (10 columns)\n",
        "    - You can use these attributes as assisting feature when performing prediction task on a particular day for a particular company\n",
        "\n",
        "# Additional Information:\n",
        "- \"Symbol\" which denotes the company brand, is the common feature between the two datasets\n",
        "- Missing values are there in the dataset\n",
        "- Categorical, discrete and continuous attributes exist in the dataset\n",
        "- The prediction tasks are regression tasks\n",
        "- Make sure that train and test data have minimum information leakage (this is something you need to think about deeply)  "
      ],
      "metadata": {
        "id": "d9tWmwMnL-T4"
      }
    },
    {
      "cell_type": "code",
      "source": [
        "import pandas as pd\n",
        "import numpy as np"
      ],
      "metadata": {
        "id": "b14HPNiYLG9y"
      },
      "execution_count": 26,
      "outputs": []
    },
    {
      "cell_type": "code",
      "execution_count": 27,
      "metadata": {
        "colab": {
          "base_uri": "https://localhost:8080/"
        },
        "id": "HsbWyLs1K0Co",
        "outputId": "1122998e-7cc3-4a5c-ad75-b06d25dbae35"
      },
      "outputs": [
        {
          "output_type": "stream",
          "name": "stdout",
          "text": [
            "Drive already mounted at /content/drive; to attempt to forcibly remount, call drive.mount(\"/content/drive\", force_remount=True).\n",
            "data.csv  data.parquet\tReadMe.md  sp500wiki.csv  sp500wiki.parquet\n"
          ]
        }
      ],
      "source": [
        "from google.colab import drive\n",
        "drive.mount(\"/content/drive\")\n",
        "\n",
        "!ls /content/drive/MyDrive/'Colab Datasets'/'Stock Market'"
      ]
    },
    {
      "cell_type": "code",
      "source": [
        "df = pd.read_parquet(\"/content/drive/MyDrive/Colab Datasets/Stock Market/data.parquet\")\n",
        "sup = pd.read_parquet(\"/content/drive/MyDrive/Colab Datasets/Stock Market/sp500wiki.parquet\")"
      ],
      "metadata": {
        "id": "ov1abRH6LFcm"
      },
      "execution_count": 28,
      "outputs": []
    },
    {
      "cell_type": "code",
      "source": [
        "print(df.head())\n",
        "print(sup.head())"
      ],
      "metadata": {
        "colab": {
          "base_uri": "https://localhost:8080/"
        },
        "id": "i5LfK8acLTNl",
        "outputId": "ee6e5a3d-3f06-41d4-b903-0cecd0d1a902"
      },
      "execution_count": 29,
      "outputs": [
        {
          "output_type": "stream",
          "name": "stdout",
          "text": [
            "                  Open        High         Low       Close   Adj Close  \\\n",
            "Date                                                                     \n",
            "2020-09-30  160.929993  163.100006  158.610001  160.179993  150.921692   \n",
            "2020-10-01  160.669998  161.899994  157.720001  158.789993  149.612045   \n",
            "2020-10-02  156.470001  161.940002  156.250000  160.360001  151.091309   \n",
            "2020-10-05  162.250000  163.500000  161.759995  162.750000  153.343170   \n",
            "2020-10-06  163.440002  165.699997  161.830002  162.229996  152.853195   \n",
            "\n",
            "               Volume Symbol Security  GICS Sector         GICS Sub-Industry  \\\n",
            "Date                                                                           \n",
            "2020-09-30  3056900.0    MMM       3M  Industrials  Industrial Conglomerates   \n",
            "2020-10-01  1989100.0    MMM       3M  Industrials  Industrial Conglomerates   \n",
            "2020-10-02  1768600.0    MMM       3M  Industrials  Industrial Conglomerates   \n",
            "2020-10-05  1457000.0    MMM       3M  Industrials  Industrial Conglomerates   \n",
            "2020-10-06  2021900.0    MMM       3M  Industrials  Industrial Conglomerates   \n",
            "\n",
            "            ...  News - Analyst Comments  News - Stocks  News - Dividends  \\\n",
            "Date        ...                                                             \n",
            "2020-09-30  ...                      NaN            NaN               NaN   \n",
            "2020-10-01  ...                      4.0            4.0               0.0   \n",
            "2020-10-02  ...                      2.0            2.0               0.0   \n",
            "2020-10-05  ...                      2.0            2.0               0.0   \n",
            "2020-10-06  ...                      3.0            3.0               0.0   \n",
            "\n",
            "            News - Corporate Earnings  News - Mergers & Acquisitions  \\\n",
            "Date                                                                   \n",
            "2020-09-30                        NaN                            NaN   \n",
            "2020-10-01                        0.0                            0.0   \n",
            "2020-10-02                        2.0                            1.0   \n",
            "2020-10-05                        0.0                            2.0   \n",
            "2020-10-06                        0.0                            3.0   \n",
            "\n",
            "            News - Store Openings  News - Product Recalls  \\\n",
            "Date                                                        \n",
            "2020-09-30                    NaN                     NaN   \n",
            "2020-10-01                    0.0                     0.0   \n",
            "2020-10-02                    0.0                     0.0   \n",
            "2020-10-05                    0.0                     0.0   \n",
            "2020-10-06                    0.0                     0.0   \n",
            "\n",
            "            News - Adverse Events  News - Personnel Changes  \\\n",
            "Date                                                          \n",
            "2020-09-30                    NaN                       NaN   \n",
            "2020-10-01                    0.0                       0.0   \n",
            "2020-10-02                    1.0                       0.0   \n",
            "2020-10-05                    0.0                       1.0   \n",
            "2020-10-06                    3.0                       0.0   \n",
            "\n",
            "            News - Stock Rumors  \n",
            "Date                             \n",
            "2020-09-30                  NaN  \n",
            "2020-10-01                  0.0  \n",
            "2020-10-02                  0.0  \n",
            "2020-10-05                  0.0  \n",
            "2020-10-06                  0.0  \n",
            "\n",
            "[5 rows x 26 columns]\n",
            "  Symbol     Security SEC filings  GICS Sector         GICS Sub-Industry  \\\n",
            "0    MMM           3M     reports  Industrials  Industrial Conglomerates   \n",
            "1    AOS  A. O. Smith     reports  Industrials         Building Products   \n",
            "2    ABT       Abbott     reports  Health Care     Health Care Equipment   \n",
            "3   ABBV       AbbVie     reports  Health Care           Pharmaceuticals   \n",
            "4   ABMD      Abiomed     reports  Health Care     Health Care Equipment   \n",
            "\n",
            "     Headquarters Location Date first added      CIK      Founded Wikidata ID  \n",
            "0    Saint Paul, Minnesota       1976-08-09    66740         1902     Q159433  \n",
            "1     Milwaukee, Wisconsin       2017-07-26    91142         1916    Q4648219  \n",
            "2  North Chicago, Illinois       1964-03-31     1800         1888     Q306764  \n",
            "3  North Chicago, Illinois       2012-12-31  1551152  2013 (1888)   Q14662364  \n",
            "4   Danvers, Massachusetts       2018-05-31   815094         1981    Q4667884  \n"
          ]
        }
      ]
    },
    {
      "cell_type": "code",
      "source": [
        "print(df.dtypes)"
      ],
      "metadata": {
        "colab": {
          "base_uri": "https://localhost:8080/"
        },
        "id": "IRoxlCxvNk_z",
        "outputId": "30cd05fb-75e7-44d6-c63f-04646a885b3e"
      },
      "execution_count": 30,
      "outputs": [
        {
          "output_type": "stream",
          "name": "stdout",
          "text": [
            "Open                             float64\n",
            "High                             float64\n",
            "Low                              float64\n",
            "Close                            float64\n",
            "Adj Close                        float64\n",
            "Volume                           float64\n",
            "Symbol                            object\n",
            "Security                          object\n",
            "GICS Sector                       object\n",
            "GICS Sub-Industry                 object\n",
            "News - All News Volume           float64\n",
            "News - Volume                    float64\n",
            "News - Positive Sentiment        float64\n",
            "News - Negative Sentiment        float64\n",
            "News - New Products              float64\n",
            "News - Layoffs                   float64\n",
            "News - Analyst Comments          float64\n",
            "News - Stocks                    float64\n",
            "News - Dividends                 float64\n",
            "News - Corporate Earnings        float64\n",
            "News - Mergers & Acquisitions    float64\n",
            "News - Store Openings            float64\n",
            "News - Product Recalls           float64\n",
            "News - Adverse Events            float64\n",
            "News - Personnel Changes         float64\n",
            "News - Stock Rumors              float64\n",
            "dtype: object\n"
          ]
        }
      ]
    },
    {
      "cell_type": "code",
      "source": [
        "print(min(df.index))"
      ],
      "metadata": {
        "colab": {
          "base_uri": "https://localhost:8080/"
        },
        "id": "PUe3v0twNyFC",
        "outputId": "33036705-af26-4673-bc48-ee2c95e4cae1"
      },
      "execution_count": 32,
      "outputs": [
        {
          "output_type": "stream",
          "name": "stdout",
          "text": [
            "2020-09-30 00:00:00\n"
          ]
        }
      ]
    },
    {
      "cell_type": "markdown",
      "source": [
        "# Check for NA Values\n",
        "At first, I thought that it might have been for the starting date of each stock, but it turns out to all correlate with the data points on 2020-09-30, which turns out to be the starting point of all our data."
      ],
      "metadata": {
        "id": "eABG3CGzNRL4"
      }
    },
    {
      "cell_type": "code",
      "source": [
        "print(len(pd.unique(df['Symbol'])))\n",
        "print(df.isna().sum())"
      ],
      "metadata": {
        "colab": {
          "base_uri": "https://localhost:8080/"
        },
        "id": "8T_Mc3LKMMCM",
        "outputId": "9fdbfa97-d913-42f9-9698-4c4239622368"
      },
      "execution_count": 33,
      "outputs": [
        {
          "output_type": "stream",
          "name": "stdout",
          "text": [
            "495\n",
            "Open                               0\n",
            "High                               0\n",
            "Low                                0\n",
            "Close                              0\n",
            "Adj Close                          0\n",
            "Volume                             0\n",
            "Symbol                             0\n",
            "Security                           0\n",
            "GICS Sector                        0\n",
            "GICS Sub-Industry                  0\n",
            "News - All News Volume           493\n",
            "News - Volume                    493\n",
            "News - Positive Sentiment        493\n",
            "News - Negative Sentiment        493\n",
            "News - New Products              493\n",
            "News - Layoffs                   493\n",
            "News - Analyst Comments          493\n",
            "News - Stocks                    493\n",
            "News - Dividends                 493\n",
            "News - Corporate Earnings        493\n",
            "News - Mergers & Acquisitions    493\n",
            "News - Store Openings            493\n",
            "News - Product Recalls           493\n",
            "News - Adverse Events            493\n",
            "News - Personnel Changes         493\n",
            "News - Stock Rumors              493\n",
            "dtype: int64\n"
          ]
        }
      ]
    },
    {
      "cell_type": "code",
      "source": [
        "print(df[df.index == \"2020-09-30\"])\n",
        "print(df[df.index == \"2020-09-30\"].isna().sum())"
      ],
      "metadata": {
        "colab": {
          "base_uri": "https://localhost:8080/"
        },
        "id": "dkMCWKBVM4dC",
        "outputId": "8438561e-60a9-4ab3-c236-adff404e2322"
      },
      "execution_count": 36,
      "outputs": [
        {
          "output_type": "stream",
          "name": "stdout",
          "text": [
            "                  Open        High         Low       Close   Adj Close  \\\n",
            "Date                                                                     \n",
            "2020-09-30  160.929993  163.100006  158.610001  160.179993  150.921692   \n",
            "2020-09-30   53.709999   54.020000   52.720001   52.799999   51.231228   \n",
            "2020-09-30  105.989998  109.480003  105.739998  108.830002  106.019371   \n",
            "2020-09-30   87.000000   88.440002   86.809998   87.589996   80.923454   \n",
            "2020-09-30  275.119995  280.880005  272.220001  277.059998  277.059998   \n",
            "...                ...         ...         ...         ...         ...   \n",
            "2020-09-30   91.120003   92.529999   90.760002   91.300003   88.541023   \n",
            "2020-09-30  258.070007  259.390015  250.449997  252.460007  252.460007   \n",
            "2020-09-30  129.902908  133.912628  129.699036  132.174759  130.564957   \n",
            "2020-09-30   29.080000   29.570000   28.870001   29.219999   27.909163   \n",
            "2020-09-30  162.919998  166.789993  162.750000  165.369995  163.708176   \n",
            "\n",
            "               Volume Symbol              Security             GICS Sector  \\\n",
            "Date                                                                         \n",
            "2020-09-30  3056900.0    MMM                    3M             Industrials   \n",
            "2020-09-30  1353600.0    AOS           A. O. Smith             Industrials   \n",
            "2020-09-30  9487000.0    ABT                Abbott             Health Care   \n",
            "2020-09-30  8209300.0   ABBV                AbbVie             Health Care   \n",
            "2020-09-30   339800.0   ABMD               Abiomed             Health Care   \n",
            "...               ...    ...                   ...                     ...   \n",
            "2020-09-30  1735200.0    YUM           Yum! Brands  Consumer Discretionary   \n",
            "2020-09-30   596400.0   ZBRA    Zebra Technologies  Information Technology   \n",
            "2020-09-30  1040300.0    ZBH         Zimmer Biomet             Health Care   \n",
            "2020-09-30  1911600.0   ZION  Zions Bancorporation              Financials   \n",
            "2020-09-30  1906700.0    ZTS                Zoetis             Health Care   \n",
            "\n",
            "                             GICS Sub-Industry  ...  News - Analyst Comments  \\\n",
            "Date                                            ...                            \n",
            "2020-09-30            Industrial Conglomerates  ...                      NaN   \n",
            "2020-09-30                   Building Products  ...                      NaN   \n",
            "2020-09-30               Health Care Equipment  ...                      NaN   \n",
            "2020-09-30                     Pharmaceuticals  ...                      NaN   \n",
            "2020-09-30               Health Care Equipment  ...                      NaN   \n",
            "...                                        ...  ...                      ...   \n",
            "2020-09-30                         Restaurants  ...                      NaN   \n",
            "2020-09-30  Electronic Equipment & Instruments  ...                      NaN   \n",
            "2020-09-30               Health Care Equipment  ...                      NaN   \n",
            "2020-09-30                      Regional Banks  ...                      NaN   \n",
            "2020-09-30                     Pharmaceuticals  ...                      NaN   \n",
            "\n",
            "            News - Stocks  News - Dividends  News - Corporate Earnings  \\\n",
            "Date                                                                     \n",
            "2020-09-30            NaN               NaN                        NaN   \n",
            "2020-09-30            NaN               NaN                        NaN   \n",
            "2020-09-30            NaN               NaN                        NaN   \n",
            "2020-09-30            NaN               NaN                        NaN   \n",
            "2020-09-30            NaN               NaN                        NaN   \n",
            "...                   ...               ...                        ...   \n",
            "2020-09-30            NaN               NaN                        NaN   \n",
            "2020-09-30            NaN               NaN                        NaN   \n",
            "2020-09-30            NaN               NaN                        NaN   \n",
            "2020-09-30            NaN               NaN                        NaN   \n",
            "2020-09-30            NaN               NaN                        NaN   \n",
            "\n",
            "            News - Mergers & Acquisitions  News - Store Openings  \\\n",
            "Date                                                               \n",
            "2020-09-30                            NaN                    NaN   \n",
            "2020-09-30                            NaN                    NaN   \n",
            "2020-09-30                            NaN                    NaN   \n",
            "2020-09-30                            NaN                    NaN   \n",
            "2020-09-30                            NaN                    NaN   \n",
            "...                                   ...                    ...   \n",
            "2020-09-30                            NaN                    NaN   \n",
            "2020-09-30                            NaN                    NaN   \n",
            "2020-09-30                            NaN                    NaN   \n",
            "2020-09-30                            NaN                    NaN   \n",
            "2020-09-30                            NaN                    NaN   \n",
            "\n",
            "            News - Product Recalls  News - Adverse Events  \\\n",
            "Date                                                        \n",
            "2020-09-30                     NaN                    NaN   \n",
            "2020-09-30                     NaN                    NaN   \n",
            "2020-09-30                     NaN                    NaN   \n",
            "2020-09-30                     NaN                    NaN   \n",
            "2020-09-30                     NaN                    NaN   \n",
            "...                            ...                    ...   \n",
            "2020-09-30                     NaN                    NaN   \n",
            "2020-09-30                     NaN                    NaN   \n",
            "2020-09-30                     NaN                    NaN   \n",
            "2020-09-30                     NaN                    NaN   \n",
            "2020-09-30                     NaN                    NaN   \n",
            "\n",
            "            News - Personnel Changes  News - Stock Rumors  \n",
            "Date                                                       \n",
            "2020-09-30                       NaN                  NaN  \n",
            "2020-09-30                       NaN                  NaN  \n",
            "2020-09-30                       NaN                  NaN  \n",
            "2020-09-30                       NaN                  NaN  \n",
            "2020-09-30                       NaN                  NaN  \n",
            "...                              ...                  ...  \n",
            "2020-09-30                       NaN                  NaN  \n",
            "2020-09-30                       NaN                  NaN  \n",
            "2020-09-30                       NaN                  NaN  \n",
            "2020-09-30                       NaN                  NaN  \n",
            "2020-09-30                       NaN                  NaN  \n",
            "\n",
            "[493 rows x 26 columns]\n",
            "Open                               0\n",
            "High                               0\n",
            "Low                                0\n",
            "Close                              0\n",
            "Adj Close                          0\n",
            "Volume                             0\n",
            "Symbol                             0\n",
            "Security                           0\n",
            "GICS Sector                        0\n",
            "GICS Sub-Industry                  0\n",
            "News - All News Volume           493\n",
            "News - Volume                    493\n",
            "News - Positive Sentiment        493\n",
            "News - Negative Sentiment        493\n",
            "News - New Products              493\n",
            "News - Layoffs                   493\n",
            "News - Analyst Comments          493\n",
            "News - Stocks                    493\n",
            "News - Dividends                 493\n",
            "News - Corporate Earnings        493\n",
            "News - Mergers & Acquisitions    493\n",
            "News - Store Openings            493\n",
            "News - Product Recalls           493\n",
            "News - Adverse Events            493\n",
            "News - Personnel Changes         493\n",
            "News - Stock Rumors              493\n",
            "dtype: int64\n"
          ]
        }
      ]
    }
  ]
}